{
 "cells": [
  {
   "cell_type": "code",
   "execution_count": 5,
   "id": "69b5b86d",
   "metadata": {},
   "outputs": [],
   "source": [
    "import numpy as np\n",
    "import statsmodels.api as sm\n",
    "import itertools\n",
    "import pandas as pd\n",
    "import matplotlib.pyplot as plt\n",
    "from statsmodels.tsa.arima_model import ARIMA"
   ]
  },
  {
   "cell_type": "code",
   "execution_count": 6,
   "id": "f7ffb61b",
   "metadata": {},
   "outputs": [
    {
     "data": {
      "text/html": [
       "<div>\n",
       "<style scoped>\n",
       "    .dataframe tbody tr th:only-of-type {\n",
       "        vertical-align: middle;\n",
       "    }\n",
       "\n",
       "    .dataframe tbody tr th {\n",
       "        vertical-align: top;\n",
       "    }\n",
       "\n",
       "    .dataframe thead th {\n",
       "        text-align: right;\n",
       "    }\n",
       "</style>\n",
       "<table border=\"1\" class=\"dataframe\">\n",
       "  <thead>\n",
       "    <tr style=\"text-align: right;\">\n",
       "      <th></th>\n",
       "      <th>T amb (Degree)</th>\n",
       "      <th>DewPoint\\n(Degree)</th>\n",
       "      <th>Relative Humidity\\n(%)</th>\n",
       "      <th>Pressure mBar</th>\n",
       "      <th>WindDir (Degree)</th>\n",
       "      <th>Wind Speed at 76.8 m\\n(m/sec)</th>\n",
       "      <th>Power Generated\\n(kw)</th>\n",
       "      <th>Unnamed: 8</th>\n",
       "      <th>Unnamed: 9</th>\n",
       "    </tr>\n",
       "    <tr>\n",
       "      <th>Timeseries</th>\n",
       "      <th></th>\n",
       "      <th></th>\n",
       "      <th></th>\n",
       "      <th></th>\n",
       "      <th></th>\n",
       "      <th></th>\n",
       "      <th></th>\n",
       "      <th></th>\n",
       "      <th></th>\n",
       "    </tr>\n",
       "  </thead>\n",
       "  <tbody>\n",
       "    <tr>\n",
       "      <th>2007-01-01 00:00:00</th>\n",
       "      <td>17.6</td>\n",
       "      <td>8.1</td>\n",
       "      <td>60.1</td>\n",
       "      <td>940.4</td>\n",
       "      <td>101</td>\n",
       "      <td>4.08</td>\n",
       "      <td>57.36</td>\n",
       "      <td>NaN</td>\n",
       "      <td>NaN</td>\n",
       "    </tr>\n",
       "    <tr>\n",
       "      <th>2007-01-01 01:00:00</th>\n",
       "      <td>17.9</td>\n",
       "      <td>10.8</td>\n",
       "      <td>63.1</td>\n",
       "      <td>941.4</td>\n",
       "      <td>114</td>\n",
       "      <td>4.74</td>\n",
       "      <td>89.54</td>\n",
       "      <td>NaN</td>\n",
       "      <td>NaN</td>\n",
       "    </tr>\n",
       "    <tr>\n",
       "      <th>2007-01-01 02:00:00</th>\n",
       "      <td>19.0</td>\n",
       "      <td>10.8</td>\n",
       "      <td>59.3</td>\n",
       "      <td>942.1</td>\n",
       "      <td>116</td>\n",
       "      <td>5.55</td>\n",
       "      <td>143.86</td>\n",
       "      <td>NaN</td>\n",
       "      <td>NaN</td>\n",
       "    </tr>\n",
       "    <tr>\n",
       "      <th>2007-01-01 03:00:00</th>\n",
       "      <td>20.6</td>\n",
       "      <td>10.6</td>\n",
       "      <td>52.8</td>\n",
       "      <td>942.4</td>\n",
       "      <td>113</td>\n",
       "      <td>6.04</td>\n",
       "      <td>184.45</td>\n",
       "      <td>NaN</td>\n",
       "      <td>NaN</td>\n",
       "    </tr>\n",
       "    <tr>\n",
       "      <th>2007-01-01 04:00:00</th>\n",
       "      <td>22.8</td>\n",
       "      <td>10.1</td>\n",
       "      <td>44.6</td>\n",
       "      <td>942.3</td>\n",
       "      <td>106</td>\n",
       "      <td>6.21</td>\n",
       "      <td>198.31</td>\n",
       "      <td>NaN</td>\n",
       "      <td>NaN</td>\n",
       "    </tr>\n",
       "  </tbody>\n",
       "</table>\n",
       "</div>"
      ],
      "text/plain": [
       "                     T amb (Degree)  DewPoint\\n(Degree)  \\\n",
       "Timeseries                                                \n",
       "2007-01-01 00:00:00            17.6                 8.1   \n",
       "2007-01-01 01:00:00            17.9                10.8   \n",
       "2007-01-01 02:00:00            19.0                10.8   \n",
       "2007-01-01 03:00:00            20.6                10.6   \n",
       "2007-01-01 04:00:00            22.8                10.1   \n",
       "\n",
       "                     Relative Humidity\\n(%)  Pressure mBar  WindDir (Degree)  \\\n",
       "Timeseries                                                                     \n",
       "2007-01-01 00:00:00                    60.1          940.4               101   \n",
       "2007-01-01 01:00:00                    63.1          941.4               114   \n",
       "2007-01-01 02:00:00                    59.3          942.1               116   \n",
       "2007-01-01 03:00:00                    52.8          942.4               113   \n",
       "2007-01-01 04:00:00                    44.6          942.3               106   \n",
       "\n",
       "                     Wind Speed at 76.8 m\\n(m/sec)  Power Generated\\n(kw)  \\\n",
       "Timeseries                                                                  \n",
       "2007-01-01 00:00:00                           4.08                  57.36   \n",
       "2007-01-01 01:00:00                           4.74                  89.54   \n",
       "2007-01-01 02:00:00                           5.55                 143.86   \n",
       "2007-01-01 03:00:00                           6.04                 184.45   \n",
       "2007-01-01 04:00:00                           6.21                 198.31   \n",
       "\n",
       "                     Unnamed: 8  Unnamed: 9  \n",
       "Timeseries                                   \n",
       "2007-01-01 00:00:00         NaN         NaN  \n",
       "2007-01-01 01:00:00         NaN         NaN  \n",
       "2007-01-01 02:00:00         NaN         NaN  \n",
       "2007-01-01 03:00:00         NaN         NaN  \n",
       "2007-01-01 04:00:00         NaN         NaN  "
      ]
     },
     "execution_count": 6,
     "metadata": {},
     "output_type": "execute_result"
    }
   ],
   "source": [
    "data = pd.read_csv(\"Bangaluru_Wind Generation.csv\",parse_dates=True,index_col=0)\n",
    "\n",
    "data.head()"
   ]
  },
  {
   "cell_type": "code",
   "execution_count": 7,
   "id": "9f162b85",
   "metadata": {},
   "outputs": [
    {
     "data": {
      "text/plain": [
       "<AxesSubplot:xlabel='Timeseries'>"
      ]
     },
     "execution_count": 7,
     "metadata": {},
     "output_type": "execute_result"
    },
    {
     "data": {
      "image/png": "[encoded data removed]",
      "text/plain": [
       "<Figure size 432x288 with 1 Axes>"
      ]
     },
     "metadata": {
      "needs_background": "light"
     },
     "output_type": "display_data"
    }
   ],
   "source": [
    "data[\"T amb (Degree)\"].plot()"
   ]
  },
  {
   "cell_type": "code",
   "execution_count": 8,
   "id": "4cbe770e",
   "metadata": {
    "scrolled": true
   },
   "outputs": [
    {
     "data": {
      "text/plain": [
       "<AxesSubplot:xlabel='Timeseries'>"
      ]
     },
     "execution_count": 8,
     "metadata": {},
     "output_type": "execute_result"
    },
    {
     "data": {
      "image/png": "[encoded data removed]",
      "text/plain": [
       "<Figure size 432x288 with 1 Axes>"
      ]
     },
     "metadata": {
      "needs_background": "light"
     },
     "output_type": "display_data"
    }
   ],
   "source": [
    "data[\"DewPoint\\n(Degree)\"].plot()"
   ]
  },
  {
   "cell_type": "code",
   "execution_count": 9,
   "id": "2c960bf6",
   "metadata": {},
   "outputs": [
    {
     "data": {
      "text/plain": [
       "<AxesSubplot:xlabel='Timeseries'>"
      ]
     },
     "execution_count": 9,
     "metadata": {},
     "output_type": "execute_result"
    },
    {
     "data": {
      "image/png": "[encoded data removed]",
      "text/plain": [
       "<Figure size 432x288 with 1 Axes>"
      ]
     },
     "metadata": {
      "needs_background": "light"
     },
     "output_type": "display_data"
    }
   ],
   "source": [
    "data[\"Relative Humidity\\n(%)\"].plot()"
   ]
  },
  {
   "cell_type": "code",
   "execution_count": 10,
   "id": "c8ee5b66",
   "metadata": {
    "scrolled": true
   },
   "outputs": [
    {
     "data": {
      "text/plain": [
       "<AxesSubplot:xlabel='Timeseries'>"
      ]
     },
     "execution_count": 10,
     "metadata": {},
     "output_type": "execute_result"
    },
    {
     "data": {
      "image/png": "[encoded data removed]",
      "text/plain": [
       "<Figure size 432x288 with 1 Axes>"
      ]
     },
     "metadata": {
      "needs_background": "light"
     },
     "output_type": "display_data"
    }
   ],
   "source": [
    "data[\"WindDir (Degree)\"].plot()"
   ]
  },
  {
   "cell_type": "code",
   "execution_count": 11,
   "id": "9dca17ec",
   "metadata": {},
   "outputs": [
    {
     "data": {
      "text/plain": [
       "<AxesSubplot:xlabel='Timeseries'>"
      ]
     },
     "execution_count": 11,
     "metadata": {},
     "output_type": "execute_result"
    },
    {
     "data": {
      "image/png": "[encoded data removed]",
      "text/plain": [
       "<Figure size 432x288 with 1 Axes>"
      ]
     },
     "metadata": {
      "needs_background": "light"
     },
     "output_type": "display_data"
    }
   ],
   "source": [
    "data[\"Pressure mBar\"].plot()"
   ]
  },
  {
   "cell_type": "code",
   "execution_count": 12,
   "id": "93774f2f",
   "metadata": {},
   "outputs": [
    {
     "data": {
      "text/plain": [
       "<AxesSubplot:xlabel='Timeseries'>"
      ]
     },
     "execution_count": 12,
     "metadata": {},
     "output_type": "execute_result"
    },
    {
     "data": {
      "image/png": "[encoded data removed]",
      "text/plain": [
       "<Figure size 432x288 with 1 Axes>"
      ]
     },
     "metadata": {
      "needs_background": "light"
     },
     "output_type": "display_data"
    }
   ],
   "source": [
    "data[\"Wind Speed at 76.8 m\\n(m/sec)\"].plot()"
   ]
  },
  {
   "cell_type": "code",
   "execution_count": 13,
   "id": "c46b2695",
   "metadata": {},
   "outputs": [
    {
     "data": {
      "text/plain": [
       "<AxesSubplot:xlabel='Timeseries'>"
      ]
     },
     "execution_count": 13,
     "metadata": {},
     "output_type": "execute_result"
    },
    {
     "data": {
      "image/png": "[encoded data removed]",
      "text/plain": [
       "<Figure size 432x288 with 1 Axes>"
      ]
     },
     "metadata": {
      "needs_background": "light"
     },
     "output_type": "display_data"
    }
   ],
   "source": [
    "data[\"Power Generated\\n(kw)\"].plot()"
   ]
  },
  {
   "cell_type": "code",
   "execution_count": 14,
   "id": "029ec46a",
   "metadata": {},
   "outputs": [
    {
     "data": {
      "text/plain": [
       "T amb (Degree)                        0\n",
       "DewPoint\\n(Degree)                    0\n",
       "Relative Humidity\\n(%)                3\n",
       "Pressure mBar                         0\n",
       "WindDir (Degree)                      0\n",
       "Wind Speed at 76.8 m\\n(m/sec)         0\n",
       "Power Generated\\n(kw)                 0\n",
       "Unnamed: 8                       127392\n",
       "Unnamed: 9                       127392\n",
       "dtype: int64"
      ]
     },
     "execution_count": 14,
     "metadata": {},
     "output_type": "execute_result"
    }
   ],
   "source": [
    "data.isnull().sum()"
   ]
  },
  {
   "cell_type": "code",
   "execution_count": 15,
   "id": "d4b285b4",
   "metadata": {},
   "outputs": [
    {
     "name": "stdout",
     "output_type": "stream",
     "text": [
      "(127392, 9)\n"
     ]
    }
   ],
   "source": [
    "print(data.shape)"
   ]
  },
  {
   "cell_type": "code",
   "execution_count": 16,
   "id": "195ce824",
   "metadata": {},
   "outputs": [],
   "source": [
    "data_dropped = data"
   ]
  },
  {
   "cell_type": "code",
   "execution_count": 17,
   "id": "41d02123",
   "metadata": {},
   "outputs": [
    {
     "name": "stdout",
     "output_type": "stream",
     "text": [
      "(127392, 9)\n"
     ]
    }
   ],
   "source": [
    "print(data_dropped.shape)"
   ]
  },
  {
   "cell_type": "code",
   "execution_count": 18,
   "id": "951aa806",
   "metadata": {},
   "outputs": [
    {
     "data": {
      "text/html": [
       "<div>\n",
       "<style scoped>\n",
       "    .dataframe tbody tr th:only-of-type {\n",
       "        vertical-align: middle;\n",
       "    }\n",
       "\n",
       "    .dataframe tbody tr th {\n",
       "        vertical-align: top;\n",
       "    }\n",
       "\n",
       "    .dataframe thead th {\n",
       "        text-align: right;\n",
       "    }\n",
       "</style>\n",
       "<table border=\"1\" class=\"dataframe\">\n",
       "  <thead>\n",
       "    <tr style=\"text-align: right;\">\n",
       "      <th></th>\n",
       "      <th>T amb (Degree)</th>\n",
       "      <th>DewPoint\\n(Degree)</th>\n",
       "      <th>Relative Humidity\\n(%)</th>\n",
       "      <th>Pressure mBar</th>\n",
       "      <th>WindDir (Degree)</th>\n",
       "      <th>Wind Speed at 76.8 m\\n(m/sec)</th>\n",
       "      <th>Power Generated\\n(kw)</th>\n",
       "      <th>Unnamed: 8</th>\n",
       "      <th>Unnamed: 9</th>\n",
       "    </tr>\n",
       "    <tr>\n",
       "      <th>Timeseries</th>\n",
       "      <th></th>\n",
       "      <th></th>\n",
       "      <th></th>\n",
       "      <th></th>\n",
       "      <th></th>\n",
       "      <th></th>\n",
       "      <th></th>\n",
       "      <th></th>\n",
       "      <th></th>\n",
       "    </tr>\n",
       "  </thead>\n",
       "  <tbody>\n",
       "    <tr>\n",
       "      <th>2007-01-01 00:00:00</th>\n",
       "      <td>17.6</td>\n",
       "      <td>8.1</td>\n",
       "      <td>60.1</td>\n",
       "      <td>940.4</td>\n",
       "      <td>101</td>\n",
       "      <td>4.08</td>\n",
       "      <td>57.36</td>\n",
       "      <td>NaN</td>\n",
       "      <td>NaN</td>\n",
       "    </tr>\n",
       "    <tr>\n",
       "      <th>2007-01-01 01:00:00</th>\n",
       "      <td>17.9</td>\n",
       "      <td>10.8</td>\n",
       "      <td>63.1</td>\n",
       "      <td>941.4</td>\n",
       "      <td>114</td>\n",
       "      <td>4.74</td>\n",
       "      <td>89.54</td>\n",
       "      <td>NaN</td>\n",
       "      <td>NaN</td>\n",
       "    </tr>\n",
       "    <tr>\n",
       "      <th>2007-01-01 02:00:00</th>\n",
       "      <td>19.0</td>\n",
       "      <td>10.8</td>\n",
       "      <td>59.3</td>\n",
       "      <td>942.1</td>\n",
       "      <td>116</td>\n",
       "      <td>5.55</td>\n",
       "      <td>143.86</td>\n",
       "      <td>NaN</td>\n",
       "      <td>NaN</td>\n",
       "    </tr>\n",
       "    <tr>\n",
       "      <th>2007-01-01 03:00:00</th>\n",
       "      <td>20.6</td>\n",
       "      <td>10.6</td>\n",
       "      <td>52.8</td>\n",
       "      <td>942.4</td>\n",
       "      <td>113</td>\n",
       "      <td>6.04</td>\n",
       "      <td>184.45</td>\n",
       "      <td>NaN</td>\n",
       "      <td>NaN</td>\n",
       "    </tr>\n",
       "    <tr>\n",
       "      <th>2007-01-01 04:00:00</th>\n",
       "      <td>22.8</td>\n",
       "      <td>10.1</td>\n",
       "      <td>44.6</td>\n",
       "      <td>942.3</td>\n",
       "      <td>106</td>\n",
       "      <td>6.21</td>\n",
       "      <td>198.31</td>\n",
       "      <td>NaN</td>\n",
       "      <td>NaN</td>\n",
       "    </tr>\n",
       "  </tbody>\n",
       "</table>\n",
       "</div>"
      ],
      "text/plain": [
       "                     T amb (Degree)  DewPoint\\n(Degree)  \\\n",
       "Timeseries                                                \n",
       "2007-01-01 00:00:00            17.6                 8.1   \n",
       "2007-01-01 01:00:00            17.9                10.8   \n",
       "2007-01-01 02:00:00            19.0                10.8   \n",
       "2007-01-01 03:00:00            20.6                10.6   \n",
       "2007-01-01 04:00:00            22.8                10.1   \n",
       "\n",
       "                     Relative Humidity\\n(%)  Pressure mBar  WindDir (Degree)  \\\n",
       "Timeseries                                                                     \n",
       "2007-01-01 00:00:00                    60.1          940.4               101   \n",
       "2007-01-01 01:00:00                    63.1          941.4               114   \n",
       "2007-01-01 02:00:00                    59.3          942.1               116   \n",
       "2007-01-01 03:00:00                    52.8          942.4               113   \n",
       "2007-01-01 04:00:00                    44.6          942.3               106   \n",
       "\n",
       "                     Wind Speed at 76.8 m\\n(m/sec)  Power Generated\\n(kw)  \\\n",
       "Timeseries                                                                  \n",
       "2007-01-01 00:00:00                           4.08                  57.36   \n",
       "2007-01-01 01:00:00                           4.74                  89.54   \n",
       "2007-01-01 02:00:00                           5.55                 143.86   \n",
       "2007-01-01 03:00:00                           6.04                 184.45   \n",
       "2007-01-01 04:00:00                           6.21                 198.31   \n",
       "\n",
       "                     Unnamed: 8  Unnamed: 9  \n",
       "Timeseries                                   \n",
       "2007-01-01 00:00:00         NaN         NaN  \n",
       "2007-01-01 01:00:00         NaN         NaN  \n",
       "2007-01-01 02:00:00         NaN         NaN  \n",
       "2007-01-01 03:00:00         NaN         NaN  \n",
       "2007-01-01 04:00:00         NaN         NaN  "
      ]
     },
     "execution_count": 18,
     "metadata": {},
     "output_type": "execute_result"
    }
   ],
   "source": [
    "data.head()"
   ]
  },
  {
   "cell_type": "code",
   "execution_count": 19,
   "id": "01afe49e",
   "metadata": {
    "scrolled": false
   },
   "outputs": [
    {
     "name": "stderr",
     "output_type": "stream",
     "text": [
      "D:\\anaconda3\\lib\\site-packages\\statsmodels\\tsa\\base\\tsa_model.py:471: ValueWarning: A date index has been provided, but it has no associated frequency information and so will be ignored when e.g. forecasting.\n",
      "  self._init_dates(dates, freq)\n",
      "D:\\anaconda3\\lib\\site-packages\\statsmodels\\tsa\\base\\tsa_model.py:471: ValueWarning: A date index has been provided, but it has no associated frequency information and so will be ignored when e.g. forecasting.\n",
      "  self._init_dates(dates, freq)\n",
      "D:\\anaconda3\\lib\\site-packages\\statsmodels\\tsa\\base\\tsa_model.py:471: ValueWarning: A date index has been provided, but it has no associated frequency information and so will be ignored when e.g. forecasting.\n",
      "  self._init_dates(dates, freq)\n"
     ]
    },
    {
     "name": "stdout",
     "output_type": "stream",
     "text": [
      "                                SARIMAX Results                                 \n",
      "================================================================================\n",
      "Dep. Variable:     Power Generated\n",
      "(kw)   No. Observations:               127392\n",
      "Model:                   ARIMA(1, 0, 0)   Log Likelihood             -733543.432\n",
      "Date:                  Thu, 06 Oct 2022   AIC                        1467092.864\n",
      "Time:                          13:08:16   BIC                        1467122.129\n",
      "Sample:                               0   HQIC                       1467101.650\n",
      "                               - 127392                                         \n",
      "Covariance Type:                    opg                                         \n",
      "==============================================================================\n",
      "                 coef    std err          z      P>|z|      [0.025      0.975]\n",
      "------------------------------------------------------------------------------\n",
      "const        352.8342     23.333     15.122      0.000     307.102     398.566\n",
      "ar.L1          0.9859      0.001   1740.577      0.000       0.985       0.987\n",
      "sigma2      5874.7460      5.565   1055.716      0.000    5863.839    5885.653\n",
      "===================================================================================\n",
      "Ljung-Box (L1) (Q):               36537.19   Jarque-Bera (JB):          15096870.83\n",
      "Prob(Q):                              0.00   Prob(JB):                         0.00\n",
      "Heteroskedasticity (H):               2.57   Skew:                             0.70\n",
      "Prob(H) (two-sided):                  0.00   Kurtosis:                        56.31\n",
      "===================================================================================\n",
      "\n",
      "Warnings:\n",
      "[1] Covariance matrix calculated using the outer product of gradients (complex-step).\n"
     ]
    }
   ],
   "source": [
    "mod = sm.tsa.arima.ARIMA(data[\"Power Generated\\n(kw)\"], order=(1,0,0))\n",
    "res = mod.fit()\n",
    "print(res.summary())"
   ]
  },
  {
   "cell_type": "code",
   "execution_count": 20,
   "id": "8f1e3d8c",
   "metadata": {},
   "outputs": [
    {
     "name": "stdout",
     "output_type": "stream",
     "text": [
      "127392    1483.782215\n",
      "dtype: float64\n",
      "127392    1483.782215\n",
      "127393    1467.793706\n",
      "Name: predicted_mean, dtype: float64\n"
     ]
    },
    {
     "name": "stderr",
     "output_type": "stream",
     "text": [
      "D:\\anaconda3\\lib\\site-packages\\statsmodels\\tsa\\base\\tsa_model.py:834: ValueWarning: No supported index is available. Prediction results will be given with an integer index beginning at `start`.\n",
      "  return get_prediction_index(\n",
      "D:\\anaconda3\\lib\\site-packages\\statsmodels\\tsa\\base\\tsa_model.py:834: ValueWarning: No supported index is available. Prediction results will be given with an integer index beginning at `start`.\n",
      "  return get_prediction_index(\n"
     ]
    }
   ],
   "source": [
    "print(res.forecast(1))\n",
    "print(res.forecast(2))"
   ]
  },
  {
   "cell_type": "code",
   "execution_count": 21,
   "id": "f71764fe",
   "metadata": {},
   "outputs": [
    {
     "data": {
      "text/html": [
       "<div>\n",
       "<style scoped>\n",
       "    .dataframe tbody tr th:only-of-type {\n",
       "        vertical-align: middle;\n",
       "    }\n",
       "\n",
       "    .dataframe tbody tr th {\n",
       "        vertical-align: top;\n",
       "    }\n",
       "\n",
       "    .dataframe thead th {\n",
       "        text-align: right;\n",
       "    }\n",
       "</style>\n",
       "<table border=\"1\" class=\"dataframe\">\n",
       "  <thead>\n",
       "    <tr style=\"text-align: right;\">\n",
       "      <th></th>\n",
       "      <th>T amb (Degree)</th>\n",
       "      <th>DewPoint\\n(Degree)</th>\n",
       "      <th>Relative Humidity\\n(%)</th>\n",
       "      <th>Pressure mBar</th>\n",
       "      <th>WindDir (Degree)</th>\n",
       "      <th>Wind Speed at 76.8 m\\n(m/sec)</th>\n",
       "      <th>Power Generated\\n(kw)</th>\n",
       "      <th>Unnamed: 8</th>\n",
       "      <th>Unnamed: 9</th>\n",
       "    </tr>\n",
       "    <tr>\n",
       "      <th>Timeseries</th>\n",
       "      <th></th>\n",
       "      <th></th>\n",
       "      <th></th>\n",
       "      <th></th>\n",
       "      <th></th>\n",
       "      <th></th>\n",
       "      <th></th>\n",
       "      <th></th>\n",
       "      <th></th>\n",
       "    </tr>\n",
       "  </thead>\n",
       "  <tbody>\n",
       "    <tr>\n",
       "      <th>2007-01-01 00:00:00</th>\n",
       "      <td>False</td>\n",
       "      <td>False</td>\n",
       "      <td>False</td>\n",
       "      <td>False</td>\n",
       "      <td>False</td>\n",
       "      <td>False</td>\n",
       "      <td>False</td>\n",
       "      <td>True</td>\n",
       "      <td>True</td>\n",
       "    </tr>\n",
       "    <tr>\n",
       "      <th>2007-01-01 01:00:00</th>\n",
       "      <td>False</td>\n",
       "      <td>False</td>\n",
       "      <td>False</td>\n",
       "      <td>False</td>\n",
       "      <td>False</td>\n",
       "      <td>False</td>\n",
       "      <td>False</td>\n",
       "      <td>True</td>\n",
       "      <td>True</td>\n",
       "    </tr>\n",
       "    <tr>\n",
       "      <th>2007-01-01 02:00:00</th>\n",
       "      <td>False</td>\n",
       "      <td>False</td>\n",
       "      <td>False</td>\n",
       "      <td>False</td>\n",
       "      <td>False</td>\n",
       "      <td>False</td>\n",
       "      <td>False</td>\n",
       "      <td>True</td>\n",
       "      <td>True</td>\n",
       "    </tr>\n",
       "    <tr>\n",
       "      <th>2007-01-01 03:00:00</th>\n",
       "      <td>False</td>\n",
       "      <td>False</td>\n",
       "      <td>False</td>\n",
       "      <td>False</td>\n",
       "      <td>False</td>\n",
       "      <td>False</td>\n",
       "      <td>False</td>\n",
       "      <td>True</td>\n",
       "      <td>True</td>\n",
       "    </tr>\n",
       "    <tr>\n",
       "      <th>2007-01-01 04:00:00</th>\n",
       "      <td>False</td>\n",
       "      <td>False</td>\n",
       "      <td>False</td>\n",
       "      <td>False</td>\n",
       "      <td>False</td>\n",
       "      <td>False</td>\n",
       "      <td>False</td>\n",
       "      <td>True</td>\n",
       "      <td>True</td>\n",
       "    </tr>\n",
       "    <tr>\n",
       "      <th>...</th>\n",
       "      <td>...</td>\n",
       "      <td>...</td>\n",
       "      <td>...</td>\n",
       "      <td>...</td>\n",
       "      <td>...</td>\n",
       "      <td>...</td>\n",
       "      <td>...</td>\n",
       "      <td>...</td>\n",
       "      <td>...</td>\n",
       "    </tr>\n",
       "    <tr>\n",
       "      <th>2021-07-13 19:06:00</th>\n",
       "      <td>False</td>\n",
       "      <td>False</td>\n",
       "      <td>False</td>\n",
       "      <td>False</td>\n",
       "      <td>False</td>\n",
       "      <td>False</td>\n",
       "      <td>False</td>\n",
       "      <td>True</td>\n",
       "      <td>True</td>\n",
       "    </tr>\n",
       "    <tr>\n",
       "      <th>2021-07-13 20:06:00</th>\n",
       "      <td>False</td>\n",
       "      <td>False</td>\n",
       "      <td>False</td>\n",
       "      <td>False</td>\n",
       "      <td>False</td>\n",
       "      <td>False</td>\n",
       "      <td>False</td>\n",
       "      <td>True</td>\n",
       "      <td>True</td>\n",
       "    </tr>\n",
       "    <tr>\n",
       "      <th>2021-07-13 21:06:00</th>\n",
       "      <td>False</td>\n",
       "      <td>False</td>\n",
       "      <td>True</td>\n",
       "      <td>False</td>\n",
       "      <td>False</td>\n",
       "      <td>False</td>\n",
       "      <td>False</td>\n",
       "      <td>True</td>\n",
       "      <td>True</td>\n",
       "    </tr>\n",
       "    <tr>\n",
       "      <th>2021-07-13 22:06:00</th>\n",
       "      <td>False</td>\n",
       "      <td>False</td>\n",
       "      <td>True</td>\n",
       "      <td>False</td>\n",
       "      <td>False</td>\n",
       "      <td>False</td>\n",
       "      <td>False</td>\n",
       "      <td>True</td>\n",
       "      <td>True</td>\n",
       "    </tr>\n",
       "    <tr>\n",
       "      <th>2021-07-13 23:06:00</th>\n",
       "      <td>False</td>\n",
       "      <td>False</td>\n",
       "      <td>True</td>\n",
       "      <td>False</td>\n",
       "      <td>False</td>\n",
       "      <td>False</td>\n",
       "      <td>False</td>\n",
       "      <td>True</td>\n",
       "      <td>True</td>\n",
       "    </tr>\n",
       "  </tbody>\n",
       "</table>\n",
       "<p>127392 rows × 9 columns</p>\n",
       "</div>"
      ],
      "text/plain": [
       "                     T amb (Degree)  DewPoint\\n(Degree)  \\\n",
       "Timeseries                                                \n",
       "2007-01-01 00:00:00           False               False   \n",
       "2007-01-01 01:00:00           False               False   \n",
       "2007-01-01 02:00:00           False               False   \n",
       "2007-01-01 03:00:00           False               False   \n",
       "2007-01-01 04:00:00           False               False   \n",
       "...                             ...                 ...   \n",
       "2021-07-13 19:06:00           False               False   \n",
       "2021-07-13 20:06:00           False               False   \n",
       "2021-07-13 21:06:00           False               False   \n",
       "2021-07-13 22:06:00           False               False   \n",
       "2021-07-13 23:06:00           False               False   \n",
       "\n",
       "                     Relative Humidity\\n(%)  Pressure mBar  WindDir (Degree)  \\\n",
       "Timeseries                                                                     \n",
       "2007-01-01 00:00:00                   False          False             False   \n",
       "2007-01-01 01:00:00                   False          False             False   \n",
       "2007-01-01 02:00:00                   False          False             False   \n",
       "2007-01-01 03:00:00                   False          False             False   \n",
       "2007-01-01 04:00:00                   False          False             False   \n",
       "...                                     ...            ...               ...   \n",
       "2021-07-13 19:06:00                   False          False             False   \n",
       "2021-07-13 20:06:00                   False          False             False   \n",
       "2021-07-13 21:06:00                    True          False             False   \n",
       "2021-07-13 22:06:00                    True          False             False   \n",
       "2021-07-13 23:06:00                    True          False             False   \n",
       "\n",
       "                     Wind Speed at 76.8 m\\n(m/sec)  Power Generated\\n(kw)  \\\n",
       "Timeseries                                                                  \n",
       "2007-01-01 00:00:00                          False                  False   \n",
       "2007-01-01 01:00:00                          False                  False   \n",
       "2007-01-01 02:00:00                          False                  False   \n",
       "2007-01-01 03:00:00                          False                  False   \n",
       "2007-01-01 04:00:00                          False                  False   \n",
       "...                                            ...                    ...   \n",
       "2021-07-13 19:06:00                          False                  False   \n",
       "2021-07-13 20:06:00                          False                  False   \n",
       "2021-07-13 21:06:00                          False                  False   \n",
       "2021-07-13 22:06:00                          False                  False   \n",
       "2021-07-13 23:06:00                          False                  False   \n",
       "\n",
       "                     Unnamed: 8  Unnamed: 9  \n",
       "Timeseries                                   \n",
       "2007-01-01 00:00:00        True        True  \n",
       "2007-01-01 01:00:00        True        True  \n",
       "2007-01-01 02:00:00        True        True  \n",
       "2007-01-01 03:00:00        True        True  \n",
       "2007-01-01 04:00:00        True        True  \n",
       "...                         ...         ...  \n",
       "2021-07-13 19:06:00        True        True  \n",
       "2021-07-13 20:06:00        True        True  \n",
       "2021-07-13 21:06:00        True        True  \n",
       "2021-07-13 22:06:00        True        True  \n",
       "2021-07-13 23:06:00        True        True  \n",
       "\n",
       "[127392 rows x 9 columns]"
      ]
     },
     "execution_count": 21,
     "metadata": {},
     "output_type": "execute_result"
    }
   ],
   "source": [
    "data_dropped.isna()"
   ]
  },
  {
   "cell_type": "code",
   "execution_count": 22,
   "id": "79fe9179",
   "metadata": {},
   "outputs": [
    {
     "data": {
      "text/html": [
       "<div>\n",
       "<style scoped>\n",
       "    .dataframe tbody tr th:only-of-type {\n",
       "        vertical-align: middle;\n",
       "    }\n",
       "\n",
       "    .dataframe tbody tr th {\n",
       "        vertical-align: top;\n",
       "    }\n",
       "\n",
       "    .dataframe thead th {\n",
       "        text-align: right;\n",
       "    }\n",
       "</style>\n",
       "<table border=\"1\" class=\"dataframe\">\n",
       "  <thead>\n",
       "    <tr style=\"text-align: right;\">\n",
       "      <th></th>\n",
       "      <th>T amb (Degree)</th>\n",
       "      <th>DewPoint\\n(Degree)</th>\n",
       "      <th>Relative Humidity\\n(%)</th>\n",
       "      <th>Pressure mBar</th>\n",
       "      <th>WindDir (Degree)</th>\n",
       "      <th>Wind Speed at 76.8 m\\n(m/sec)</th>\n",
       "      <th>Power Generated\\n(kw)</th>\n",
       "      <th>Unnamed: 8</th>\n",
       "      <th>Unnamed: 9</th>\n",
       "    </tr>\n",
       "    <tr>\n",
       "      <th>Timeseries</th>\n",
       "      <th></th>\n",
       "      <th></th>\n",
       "      <th></th>\n",
       "      <th></th>\n",
       "      <th></th>\n",
       "      <th></th>\n",
       "      <th></th>\n",
       "      <th></th>\n",
       "      <th></th>\n",
       "    </tr>\n",
       "  </thead>\n",
       "  <tbody>\n",
       "    <tr>\n",
       "      <th>2007-01-01 00:00:00</th>\n",
       "      <td>17.6</td>\n",
       "      <td>8.1</td>\n",
       "      <td>60.1</td>\n",
       "      <td>940.4</td>\n",
       "      <td>101</td>\n",
       "      <td>4.08</td>\n",
       "      <td>57.36</td>\n",
       "      <td>NaN</td>\n",
       "      <td>NaN</td>\n",
       "    </tr>\n",
       "    <tr>\n",
       "      <th>2007-01-01 01:00:00</th>\n",
       "      <td>17.9</td>\n",
       "      <td>10.8</td>\n",
       "      <td>63.1</td>\n",
       "      <td>941.4</td>\n",
       "      <td>114</td>\n",
       "      <td>4.74</td>\n",
       "      <td>89.54</td>\n",
       "      <td>NaN</td>\n",
       "      <td>NaN</td>\n",
       "    </tr>\n",
       "    <tr>\n",
       "      <th>2007-01-01 02:00:00</th>\n",
       "      <td>19.0</td>\n",
       "      <td>10.8</td>\n",
       "      <td>59.3</td>\n",
       "      <td>942.1</td>\n",
       "      <td>116</td>\n",
       "      <td>5.55</td>\n",
       "      <td>143.86</td>\n",
       "      <td>NaN</td>\n",
       "      <td>NaN</td>\n",
       "    </tr>\n",
       "    <tr>\n",
       "      <th>2007-01-01 03:00:00</th>\n",
       "      <td>20.6</td>\n",
       "      <td>10.6</td>\n",
       "      <td>52.8</td>\n",
       "      <td>942.4</td>\n",
       "      <td>113</td>\n",
       "      <td>6.04</td>\n",
       "      <td>184.45</td>\n",
       "      <td>NaN</td>\n",
       "      <td>NaN</td>\n",
       "    </tr>\n",
       "    <tr>\n",
       "      <th>2007-01-01 04:00:00</th>\n",
       "      <td>22.8</td>\n",
       "      <td>10.1</td>\n",
       "      <td>44.6</td>\n",
       "      <td>942.3</td>\n",
       "      <td>106</td>\n",
       "      <td>6.21</td>\n",
       "      <td>198.31</td>\n",
       "      <td>NaN</td>\n",
       "      <td>NaN</td>\n",
       "    </tr>\n",
       "  </tbody>\n",
       "</table>\n",
       "</div>"
      ],
      "text/plain": [
       "                     T amb (Degree)  DewPoint\\n(Degree)  \\\n",
       "Timeseries                                                \n",
       "2007-01-01 00:00:00            17.6                 8.1   \n",
       "2007-01-01 01:00:00            17.9                10.8   \n",
       "2007-01-01 02:00:00            19.0                10.8   \n",
       "2007-01-01 03:00:00            20.6                10.6   \n",
       "2007-01-01 04:00:00            22.8                10.1   \n",
       "\n",
       "                     Relative Humidity\\n(%)  Pressure mBar  WindDir (Degree)  \\\n",
       "Timeseries                                                                     \n",
       "2007-01-01 00:00:00                    60.1          940.4               101   \n",
       "2007-01-01 01:00:00                    63.1          941.4               114   \n",
       "2007-01-01 02:00:00                    59.3          942.1               116   \n",
       "2007-01-01 03:00:00                    52.8          942.4               113   \n",
       "2007-01-01 04:00:00                    44.6          942.3               106   \n",
       "\n",
       "                     Wind Speed at 76.8 m\\n(m/sec)  Power Generated\\n(kw)  \\\n",
       "Timeseries                                                                  \n",
       "2007-01-01 00:00:00                           4.08                  57.36   \n",
       "2007-01-01 01:00:00                           4.74                  89.54   \n",
       "2007-01-01 02:00:00                           5.55                 143.86   \n",
       "2007-01-01 03:00:00                           6.04                 184.45   \n",
       "2007-01-01 04:00:00                           6.21                 198.31   \n",
       "\n",
       "                     Unnamed: 8  Unnamed: 9  \n",
       "Timeseries                                   \n",
       "2007-01-01 00:00:00         NaN         NaN  \n",
       "2007-01-01 01:00:00         NaN         NaN  \n",
       "2007-01-01 02:00:00         NaN         NaN  \n",
       "2007-01-01 03:00:00         NaN         NaN  \n",
       "2007-01-01 04:00:00         NaN         NaN  "
      ]
     },
     "execution_count": 22,
     "metadata": {},
     "output_type": "execute_result"
    }
   ],
   "source": [
    "data_dropped.head()"
   ]
  },
  {
   "cell_type": "code",
   "execution_count": 27,
   "id": "f3f3b870",
   "metadata": {},
   "outputs": [],
   "source": [
    "data_dropped=data_dropped.fillna(0)"
   ]
  },
  {
   "cell_type": "code",
   "execution_count": 28,
   "id": "ba9760e7",
   "metadata": {},
   "outputs": [
    {
     "data": {
      "text/plain": [
       "<AxesSubplot:xlabel='Timeseries'>"
      ]
     },
     "execution_count": 28,
     "metadata": {},
     "output_type": "execute_result"
    },
    {
     "data": {
      "image/png": "[encoded data removed]",
      "text/plain": [
       "<Figure size 432x288 with 1 Axes>"
      ]
     },
     "metadata": {
      "needs_background": "light"
     },
     "output_type": "display_data"
    }
   ],
   "source": [
    "data_dropped[\"Relative Humidity\\n(%)\"].plot()"
   ]
  },
  {
   "cell_type": "code",
   "execution_count": 33,
   "id": "65f4f99d",
   "metadata": {},
   "outputs": [],
   "source": [
    "data_dropped = data_dropped.drop(columns=['Unnamed: 8', 'Unnamed: 9'])"
   ]
  },
  {
   "cell_type": "code",
   "execution_count": 34,
   "id": "c7ad478b",
   "metadata": {},
   "outputs": [],
   "source": [
    "data_dropped.to_csv(\"cleandata.csv\", sep='\\t', encoding='utf-8')"
   ]
  },
  {
   "cell_type": "code",
   "execution_count": 35,
   "id": "13ccdfdb",
   "metadata": {},
   "outputs": [
    {
     "data": {
      "text/html": [
       "<div>\n",
       "<style scoped>\n",
       "    .dataframe tbody tr th:only-of-type {\n",
       "        vertical-align: middle;\n",
       "    }\n",
       "\n",
       "    .dataframe tbody tr th {\n",
       "        vertical-align: top;\n",
       "    }\n",
       "\n",
       "    .dataframe thead th {\n",
       "        text-align: right;\n",
       "    }\n",
       "</style>\n",
       "<table border=\"1\" class=\"dataframe\">\n",
       "  <thead>\n",
       "    <tr style=\"text-align: right;\">\n",
       "      <th></th>\n",
       "      <th>T amb (Degree)</th>\n",
       "      <th>DewPoint\\n(Degree)</th>\n",
       "      <th>Relative Humidity\\n(%)</th>\n",
       "      <th>Pressure mBar</th>\n",
       "      <th>WindDir (Degree)</th>\n",
       "      <th>Wind Speed at 76.8 m\\n(m/sec)</th>\n",
       "      <th>Power Generated\\n(kw)</th>\n",
       "    </tr>\n",
       "    <tr>\n",
       "      <th>Timeseries</th>\n",
       "      <th></th>\n",
       "      <th></th>\n",
       "      <th></th>\n",
       "      <th></th>\n",
       "      <th></th>\n",
       "      <th></th>\n",
       "      <th></th>\n",
       "    </tr>\n",
       "  </thead>\n",
       "  <tbody>\n",
       "    <tr>\n",
       "      <th>2007-01-01 00:00:00</th>\n",
       "      <td>17.6</td>\n",
       "      <td>8.1</td>\n",
       "      <td>60.1</td>\n",
       "      <td>940.4</td>\n",
       "      <td>101</td>\n",
       "      <td>4.08</td>\n",
       "      <td>57.36</td>\n",
       "    </tr>\n",
       "    <tr>\n",
       "      <th>2007-01-01 01:00:00</th>\n",
       "      <td>17.9</td>\n",
       "      <td>10.8</td>\n",
       "      <td>63.1</td>\n",
       "      <td>941.4</td>\n",
       "      <td>114</td>\n",
       "      <td>4.74</td>\n",
       "      <td>89.54</td>\n",
       "    </tr>\n",
       "    <tr>\n",
       "      <th>2007-01-01 02:00:00</th>\n",
       "      <td>19.0</td>\n",
       "      <td>10.8</td>\n",
       "      <td>59.3</td>\n",
       "      <td>942.1</td>\n",
       "      <td>116</td>\n",
       "      <td>5.55</td>\n",
       "      <td>143.86</td>\n",
       "    </tr>\n",
       "    <tr>\n",
       "      <th>2007-01-01 03:00:00</th>\n",
       "      <td>20.6</td>\n",
       "      <td>10.6</td>\n",
       "      <td>52.8</td>\n",
       "      <td>942.4</td>\n",
       "      <td>113</td>\n",
       "      <td>6.04</td>\n",
       "      <td>184.45</td>\n",
       "    </tr>\n",
       "    <tr>\n",
       "      <th>2007-01-01 04:00:00</th>\n",
       "      <td>22.8</td>\n",
       "      <td>10.1</td>\n",
       "      <td>44.6</td>\n",
       "      <td>942.3</td>\n",
       "      <td>106</td>\n",
       "      <td>6.21</td>\n",
       "      <td>198.31</td>\n",
       "    </tr>\n",
       "  </tbody>\n",
       "</table>\n",
       "</div>"
      ],
      "text/plain": [
       "                     T amb (Degree)  DewPoint\\n(Degree)  \\\n",
       "Timeseries                                                \n",
       "2007-01-01 00:00:00            17.6                 8.1   \n",
       "2007-01-01 01:00:00            17.9                10.8   \n",
       "2007-01-01 02:00:00            19.0                10.8   \n",
       "2007-01-01 03:00:00            20.6                10.6   \n",
       "2007-01-01 04:00:00            22.8                10.1   \n",
       "\n",
       "                     Relative Humidity\\n(%)  Pressure mBar  WindDir (Degree)  \\\n",
       "Timeseries                                                                     \n",
       "2007-01-01 00:00:00                    60.1          940.4               101   \n",
       "2007-01-01 01:00:00                    63.1          941.4               114   \n",
       "2007-01-01 02:00:00                    59.3          942.1               116   \n",
       "2007-01-01 03:00:00                    52.8          942.4               113   \n",
       "2007-01-01 04:00:00                    44.6          942.3               106   \n",
       "\n",
       "                     Wind Speed at 76.8 m\\n(m/sec)  Power Generated\\n(kw)  \n",
       "Timeseries                                                                 \n",
       "2007-01-01 00:00:00                           4.08                  57.36  \n",
       "2007-01-01 01:00:00                           4.74                  89.54  \n",
       "2007-01-01 02:00:00                           5.55                 143.86  \n",
       "2007-01-01 03:00:00                           6.04                 184.45  \n",
       "2007-01-01 04:00:00                           6.21                 198.31  "
      ]
     },
     "execution_count": 35,
     "metadata": {},
     "output_type": "execute_result"
    }
   ],
   "source": [
    "data_dropped.head()"
   ]
  },
  {
   "cell_type": "code",
   "execution_count": 37,
   "id": "1c5fb642",
   "metadata": {},
   "outputs": [
    {
     "name": "stderr",
     "output_type": "stream",
     "text": [
      "D:\\anaconda3\\lib\\site-packages\\statsmodels\\tsa\\base\\tsa_model.py:471: ValueWarning: A date index has been provided, but it has no associated frequency information and so will be ignored when e.g. forecasting.\n",
      "  self._init_dates(dates, freq)\n",
      "D:\\anaconda3\\lib\\site-packages\\statsmodels\\tsa\\base\\tsa_model.py:471: ValueWarning: A date index has been provided, but it has no associated frequency information and so will be ignored when e.g. forecasting.\n",
      "  self._init_dates(dates, freq)\n",
      "D:\\anaconda3\\lib\\site-packages\\statsmodels\\tsa\\base\\tsa_model.py:471: ValueWarning: A date index has been provided, but it has no associated frequency information and so will be ignored when e.g. forecasting.\n",
      "  self._init_dates(dates, freq)\n"
     ]
    },
    {
     "name": "stdout",
     "output_type": "stream",
     "text": [
      "                                 SARIMAX Results                                 \n",
      "=================================================================================\n",
      "Dep. Variable:     Relative Humidity\n",
      "(%)   No. Observations:               127392\n",
      "Model:                    ARIMA(1, 0, 0)   Log Likelihood             -348277.488\n",
      "Date:                   Thu, 06 Oct 2022   AIC                         696560.977\n",
      "Time:                           13:20:24   BIC                         696590.242\n",
      "Sample:                                0   HQIC                        696569.762\n",
      "                                - 127392                                         \n",
      "Covariance Type:                     opg                                         \n",
      "==============================================================================\n",
      "                 coef    std err          z      P>|z|      [0.025      0.975]\n",
      "------------------------------------------------------------------------------\n",
      "const         64.4169      0.811     79.463      0.000      62.828      66.006\n",
      "ar.L1          0.9859      0.001   1571.652      0.000       0.985       0.987\n",
      "sigma2        13.8743      0.052    265.169      0.000      13.772      13.977\n",
      "===================================================================================\n",
      "Ljung-Box (L1) (Q):              102282.92   Jarque-Bera (JB):              8511.48\n",
      "Prob(Q):                              0.00   Prob(JB):                         0.00\n",
      "Heteroskedasticity (H):               1.15   Skew:                            -0.57\n",
      "Prob(H) (two-sided):                  0.00   Kurtosis:                         3.54\n",
      "===================================================================================\n",
      "\n",
      "Warnings:\n",
      "[1] Covariance matrix calculated using the outer product of gradients (complex-step).\n"
     ]
    }
   ],
   "source": [
    "mod = sm.tsa.arima.ARIMA(data[\"Relative Humidity\\n(%)\"], order=(1,0,0))\n",
    "res = mod.fit()\n",
    "print(res.summary())"
   ]
  },
  {
   "cell_type": "code",
   "execution_count": 38,
   "id": "27d0edc5",
   "metadata": {},
   "outputs": [
    {
     "name": "stderr",
     "output_type": "stream",
     "text": [
      "D:\\anaconda3\\lib\\site-packages\\statsmodels\\tsa\\base\\tsa_model.py:471: ValueWarning: A date index has been provided, but it has no associated frequency information and so will be ignored when e.g. forecasting.\n",
      "  self._init_dates(dates, freq)\n",
      "D:\\anaconda3\\lib\\site-packages\\statsmodels\\tsa\\base\\tsa_model.py:471: ValueWarning: A date index has been provided, but it has no associated frequency information and so will be ignored when e.g. forecasting.\n",
      "  self._init_dates(dates, freq)\n",
      "D:\\anaconda3\\lib\\site-packages\\statsmodels\\tsa\\base\\tsa_model.py:471: ValueWarning: A date index has been provided, but it has no associated frequency information and so will be ignored when e.g. forecasting.\n",
      "  self._init_dates(dates, freq)\n"
     ]
    },
    {
     "name": "stdout",
     "output_type": "stream",
     "text": [
      "                                 SARIMAX Results                                 \n",
      "=================================================================================\n",
      "Dep. Variable:     Relative Humidity\n",
      "(%)   No. Observations:               127392\n",
      "Model:                    ARIMA(1, 0, 0)   Log Likelihood             -348561.250\n",
      "Date:                   Thu, 06 Oct 2022   AIC                         697128.500\n",
      "Time:                           13:20:38   BIC                         697157.765\n",
      "Sample:                                0   HQIC                        697137.286\n",
      "                                - 127392                                         \n",
      "Covariance Type:                     opg                                         \n",
      "==============================================================================\n",
      "                 coef    std err          z      P>|z|      [0.025      0.975]\n",
      "------------------------------------------------------------------------------\n",
      "const         64.4153      0.796     80.920      0.000      62.855      65.976\n",
      "ar.L1          0.9859      0.001   1566.481      0.000       0.985       0.987\n",
      "sigma2        13.9345      0.037    374.725      0.000      13.862      14.007\n",
      "===================================================================================\n",
      "Ljung-Box (L1) (Q):              101409.72   Jarque-Bera (JB):             54415.82\n",
      "Prob(Q):                              0.00   Prob(JB):                         0.00\n",
      "Heteroskedasticity (H):               1.16   Skew:                            -0.67\n",
      "Prob(H) (two-sided):                  0.00   Kurtosis:                         5.91\n",
      "===================================================================================\n",
      "\n",
      "Warnings:\n",
      "[1] Covariance matrix calculated using the outer product of gradients (complex-step).\n"
     ]
    }
   ],
   "source": [
    "mod = sm.tsa.arima.ARIMA(data_dropped[\"Relative Humidity\\n(%)\"], order=(1,0,0))\n",
    "res = mod.fit()\n",
    "print(res.summary())"
   ]
  },
  {
   "cell_type": "code",
   "execution_count": null,
   "id": "8676ddfe",
   "metadata": {},
   "outputs": [],
   "source": []
  }
 ],
 "metadata": {
  "kernelspec": {
   "display_name": "Python 3 (ipykernel)",
   "language": "python",
   "name": "python3"
  },
  "language_info": {
   "codemirror_mode": {
    "name": "ipython",
    "version": 3
   },
   "file_extension": ".py",
   "mimetype": "text/x-python",
   "name": "python",
   "nbconvert_exporter": "python",
   "pygments_lexer": "ipython3",
   "version": "3.8.5"
  }
 },
 "nbformat": 4,
 "nbformat_minor": 5
}
